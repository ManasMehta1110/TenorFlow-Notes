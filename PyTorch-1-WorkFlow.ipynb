{
 "cells": [
  {
   "cell_type": "markdown",
   "id": "46dcb55d",
   "metadata": {},
   "source": [
    "### PyTorch Workflow\n",
    "\n",
    "#### Topics:\n",
    "1. Data (prepare and load)\n",
    "2. Build model\n",
    "3. Fitting the model to data (training)\n",
    "4. Making predictions and evaluating a model (inference)  \n",
    "5. Saving and loading a model\n",
    "6. Putting it all together"
   ]
  },
  {
   "cell_type": "code",
   "execution_count": 57,
   "id": "7b673763",
   "metadata": {},
   "outputs": [
    {
     "data": {
      "text/plain": [
       "'2.7.1+cpu'"
      ]
     },
     "execution_count": 57,
     "metadata": {},
     "output_type": "execute_result"
    }
   ],
   "source": [
    "import torch\n",
    "from torch import nn ##nn contains all of PyTorch's building blocks for neural networks\n",
    "import matplotlib.pyplot as plt\n",
    "import numpy as np\n",
    "import pandas as pd\n",
    "#Check PyTorch version\n",
    "torch.__version__\n",
    "\n"
   ]
  },
  {
   "cell_type": "markdown",
   "id": "61b3004c",
   "metadata": {},
   "source": [
    "### 1. Data (Preparing and loading)\n",
    "\n",
    "Data can be almost anything... in machine learning\n",
    "Machine learning is a game of two parts:\n",
    "1. Get data into a numerical representation\n",
    "2. Build a model to learn patterns in that numerical representation\n"
   ]
  },
  {
   "cell_type": "code",
   "execution_count": 58,
   "id": "aa9cd681",
   "metadata": {},
   "outputs": [
    {
     "data": {
      "text/plain": [
       "(tensor([[0.0000],\n",
       "         [0.0200],\n",
       "         [0.0400],\n",
       "         [0.0600],\n",
       "         [0.0800],\n",
       "         [0.1000],\n",
       "         [0.1200],\n",
       "         [0.1400],\n",
       "         [0.1600],\n",
       "         [0.1800]]),\n",
       " tensor([[0.3000],\n",
       "         [0.3140],\n",
       "         [0.3280],\n",
       "         [0.3420],\n",
       "         [0.3560],\n",
       "         [0.3700],\n",
       "         [0.3840],\n",
       "         [0.3980],\n",
       "         [0.4120],\n",
       "         [0.4260]]))"
      ]
     },
     "execution_count": 58,
     "metadata": {},
     "output_type": "execute_result"
    }
   ],
   "source": [
    "# Create known paramenters\n",
    "# f = wx + b\n",
    "weight = 0.7\n",
    "bias = 0.3\n",
    "\n",
    "#Create \n",
    "start = 0\n",
    "end = 1\n",
    "step = 0.02\n",
    "X = torch.arange(start,end,step).unsqueeze(dim=1)\n",
    "\n",
    "y = weight * X + bias\n",
    "X[:10],y[:10]"
   ]
  },
  {
   "cell_type": "code",
   "execution_count": 59,
   "id": "2ea4927e",
   "metadata": {},
   "outputs": [
    {
     "data": {
      "text/plain": [
       "(50, 50)"
      ]
     },
     "execution_count": 59,
     "metadata": {},
     "output_type": "execute_result"
    }
   ],
   "source": [
    "len(X),len(y)"
   ]
  },
  {
   "cell_type": "markdown",
   "id": "caa985df",
   "metadata": {},
   "source": [
    "### Splitting data into training and test sets "
   ]
  },
  {
   "cell_type": "code",
   "execution_count": 60,
   "id": "0bdab22d",
   "metadata": {},
   "outputs": [
    {
     "data": {
      "text/plain": [
       "tensor([[0.8000],\n",
       "        [0.8200],\n",
       "        [0.8400],\n",
       "        [0.8600],\n",
       "        [0.8800],\n",
       "        [0.9000],\n",
       "        [0.9200],\n",
       "        [0.9400],\n",
       "        [0.9600],\n",
       "        [0.9800]])"
      ]
     },
     "execution_count": 60,
     "metadata": {},
     "output_type": "execute_result"
    }
   ],
   "source": [
    "# Create a train/test split \n",
    "train_split = int(0.8 * len(X))\n",
    "X_train,y_train = X[:train_split],y[:train_split]\n",
    "X_test,y_test = X[train_split:],y[train_split:]\n",
    "\n",
    "X_test\n"
   ]
  },
  {
   "cell_type": "code",
   "execution_count": 61,
   "id": "2f4acde0",
   "metadata": {},
   "outputs": [],
   "source": [
    "def plot_predictions(train_data = X_train,\n",
    "                     train_label=y_train,\n",
    "                     test_data = X_test,\n",
    "                     test_label = y_test,\n",
    "                     predictions = None):\n",
    "    \"\"\"\n",
    "    Plots training data, test data and compares predictions\n",
    "    \"\"\"\n",
    "\n",
    "    plt.figure(figsize=(10,7))\n",
    "    plt.scatter(train_data,train_label,c=\"b\",s=4,label=\"training data\")\n",
    "\n",
    "    plt.scatter(test_data,test_label,c=\"g\",s=4,label=\"Testing data\")\n",
    "\n",
    "    if predictions is not None:\n",
    "        plt.scatter(test_data,predictions,c=\"r\",label=\"Predictions\")\n",
    "\n"
   ]
  },
  {
   "cell_type": "code",
   "execution_count": 62,
   "id": "9539320c",
   "metadata": {},
   "outputs": [
    {
     "data": {
      "image/png": "[encoded data removed]",
      "text/plain": [
       "<Figure size 1000x700 with 1 Axes>"
      ]
     },
     "metadata": {},
     "output_type": "display_data"
    }
   ],
   "source": [
    "plot_predictions()"
   ]
  },
  {
   "cell_type": "code",
   "execution_count": 63,
   "id": "f47c1e31",
   "metadata": {},
   "outputs": [],
   "source": [
    "class LinearRegressionModel(nn.Module): # <- almost everything in PyTorch inherits from nn.Module (this contains all the building blocks for neural networks)\n",
    "    #Base class for all neural network modules.\n",
    "    #Your modles should also subclass this class\n",
    "    \n",
    "    \n",
    "    \n",
    "    def __init__(self):\n",
    "        super().__init__()\n",
    "\n",
    "        #Initialise model paramenters to be used in various computations (these could be different layers from torch.nn, single parameters, hard coded values or functions)\n",
    "        self.weights = nn.Parameter(torch.randn(1, #Start with a random weight and try to adjust it to the ideal weight\n",
    "                                                requires_grad=True, # Can this paramaneter be updated via gradient descent or not..\n",
    "                                                dtype=torch.float32))\n",
    "        self.bias = nn.Parameter(torch.randn(1, #Start with a random bias and try to adjust it to the ideal bias\n",
    "                                             requires_grad=True, # Can this paramaneter be updated via gradient descent or not..\n",
    "                                             dtype=torch.float32))\n",
    "        # Requires grad = true means Pytorch will track the gradients of this specific paramenter for use with torch.autograd and gradient descent (for many torch.nn modeules, \n",
    "        #                                                                                                                                           required_grad = True is set by default))\n",
    "\n",
    "    #Forward method to define the computation in the model\n",
    "    def forward(self,x:torch.Tensor) -> torch.Tensor: # <- \"x\" is the input data\n",
    "        return self.weights * x + self.bias # This is the linear regression formula\n",
    "    #Any subclass of nn.Module needs to override forward() (This defines the forward computation of the model)\n",
    "\n",
    "    \n",
    "\n"
   ]
  },
  {
   "cell_type": "markdown",
   "id": "3cacc8d8",
   "metadata": {},
   "source": [
    "### PyTorch model building essentials\n",
    "\n",
    "* torch.nn - contains all of the buildings for computational graphs (a neural network can be considered a computational graph)\n",
    "* torch.nn.Parameter - what parameters should our model try and learn, often a PyTorch layer from torch.nn will set these for us\n",
    "* torch.nn.Module - The base class for all neural network modules, if you subclass it, you should overwrite the forward() method\n",
    "* torch.optim - This is where the optimizers in PyTorch live, they will help with gradient descent\n",
    "* def forward() - All nn.Module subclasses require you to overwrite forward, this method defines what happens in the forward computation\n",
    "* torch.utils.data.Dataset - Represents a map between key and sample pairs of data, such as images and their associated labels\n",
    "* torch.utils.data.DatLoader - creates a Python iterable over a torch Dataset (allow you to iterate over your data)"
   ]
  },
  {
   "cell_type": "markdown",
   "id": "a1bae907",
   "metadata": {},
   "source": [
    "### Checking the contents of our PyTorch model\n",
    "\n",
    "Now we have created our model, let's see what is inside...\n",
    "\n",
    "We can check out our model parameter or what is inside our model using `.parameter()`"
   ]
  },
  {
   "cell_type": "code",
   "execution_count": 64,
   "id": "a0dcc77e",
   "metadata": {},
   "outputs": [
    {
     "data": {
      "text/plain": [
       "[Parameter containing:\n",
       " tensor([0.3367], requires_grad=True),\n",
       " Parameter containing:\n",
       " tensor([0.1288], requires_grad=True)]"
      ]
     },
     "execution_count": 64,
     "metadata": {},
     "output_type": "execute_result"
    }
   ],
   "source": [
    "# Create a random seed \n",
    "\n",
    "torch.manual_seed(42) \n",
    "\n",
    "# Create an instance of the model (this is a subclass of nn.Module)\n",
    "\n",
    "model_0 = LinearRegressionModel() \n",
    "\n",
    "list(model_0.parameters())\n",
    "\n"
   ]
  },
  {
   "cell_type": "markdown",
   "id": "8cf4a867",
   "metadata": {},
   "source": [
    "### Making predicitons using `torch.inference_mode()`\n",
    "\n",
    "To check out model's predictive power, let's see how well it predicts `y_test` based on `X_test`\n",
    "\n",
    "When was pass data through our model its going to run it through the `forward()` method"
   ]
  },
  {
   "cell_type": "code",
   "execution_count": 65,
   "id": "70c57e8a",
   "metadata": {},
   "outputs": [
    {
     "data": {
      "text/plain": [
       "tensor([[0.8000],\n",
       "        [0.8200],\n",
       "        [0.8400],\n",
       "        [0.8600],\n",
       "        [0.8800],\n",
       "        [0.9000],\n",
       "        [0.9200],\n",
       "        [0.9400],\n",
       "        [0.9600],\n",
       "        [0.9800]])"
      ]
     },
     "execution_count": 65,
     "metadata": {},
     "output_type": "execute_result"
    }
   ],
   "source": [
    "X_test"
   ]
  },
  {
   "cell_type": "code",
   "execution_count": 66,
   "id": "20c0e025",
   "metadata": {},
   "outputs": [
    {
     "data": {
      "text/plain": [
       "tensor([[0.3982],\n",
       "        [0.4049],\n",
       "        [0.4116],\n",
       "        [0.4184],\n",
       "        [0.4251],\n",
       "        [0.4318],\n",
       "        [0.4386],\n",
       "        [0.4453],\n",
       "        [0.4520],\n",
       "        [0.4588]])"
      ]
     },
     "execution_count": 66,
     "metadata": {},
     "output_type": "execute_result"
    }
   ],
   "source": [
    "# Make predictions with model\n",
    "with torch.inference_mode():\n",
    "    y_preds = model_0(X_test)\n",
    "\n",
    "# You can also do something ismilar with torch.nograd(), however torch.inference_mode() is preffered\n",
    "#with torch.no_grad():\n",
    "    #y_preds = model_0(X_test)\n",
    "\n",
    "y_preds"
   ]
  },
  {
   "cell_type": "code",
   "execution_count": 67,
   "id": "465c42f4",
   "metadata": {},
   "outputs": [
    {
     "data": {
      "image/png": "[encoded data removed]",
      "text/plain": [
       "<Figure size 1000x700 with 1 Axes>"
      ]
     },
     "metadata": {},
     "output_type": "display_data"
    }
   ],
   "source": [
    "plot_predictions(predictions=y_preds)"
   ]
  },
  {
   "cell_type": "markdown",
   "id": "b9afc8f5",
   "metadata": {},
   "source": [
    "### Train model\n",
    "\n",
    "The whole idea of training is for a model to move from some *unknown* parameters (these may be random) to some known parameter\n",
    "\n",
    "                                                        OR                                                                 \n",
    "\n",
    "In other words from a poor representation of the data to a better representation of the data\n",
    "\n",
    "\n",
    "* Note: Loss function may also be called cost function or criterion in different areas. For our casem we are going to refer to it as loss function\n",
    "\n",
    "Things we need to train:\n",
    "\n",
    "* **Loss Function:** A function to measure how wrong your model's predictions are to the ideal output. So lower is better\n",
    "* **Optimizer:** Takes into account the loss of a model and ajusts the model's parameters to improve the loss function.\n",
    "        \n",
    "Inside the Optimizer you will often have to set two parameters:\n",
    "* `params`: The model parameters you would like to optimize, for example, `params=model_0.parameters()` \n",
    "* `lr` (learning rate): The learning rate is a hypterparmeter that defines how big/small the optimizer changes the parameters with each step (a small `lr` results in small changes, a large `lr` results   in large changes)\n",
    "\n",
    "And specifically for PyTorch, we need:\n",
    "* A training loop\n",
    "* A testing loop"
   ]
  },
  {
   "cell_type": "code",
   "execution_count": 68,
   "id": "d5046861",
   "metadata": {},
   "outputs": [],
   "source": [
    "# Setup a loss function\n",
    "loss_fn = nn.L1Loss()\n",
    "#Setup an Optimizer (Stochastic gradient descent)\n",
    "optimizer = torch.optim.SGD(params=model_0.parameters(),\n",
    "                            lr = 0.01) #Lr = learning rate"
   ]
  },
  {
   "cell_type": "markdown",
   "id": "ca8d5c95",
   "metadata": {},
   "source": [
    "Q. Which loss function and optimizer should i use?\n",
    "A. This will be a problem specific. But with expericne, you will get an idea of what works and what doesnt with your particular problem set\n",
    "\n",
    "For example, for regression problem, a loss function of `mm.L1Loss()` and an optimizer like `torch.optim.SGD()` will suffice\n",
    "\n",
    "But for a classification problem like classifying whether a photo is of a dog or a cat, you will likely want to use a loss function of `nn.BCELoss()` (binary cross entropy loss)"
   ]
  },
  {
   "cell_type": "markdown",
   "id": "0dc51284",
   "metadata": {},
   "source": [
    "### Building a training loop and a testing loop\n",
    "\n",
    "A couple of things we need in a training loop\n",
    "\n",
    "0. Loop through the data\n",
    "1. Forward pass (this involves data moving through our models `forward()` functions) to make predicitons on data - also called forward propogation\n",
    "2. Calculate the loss (compare forward pass predictions to ground truth labels)\n",
    "3. Optimizer zero grad\n",
    "4. Loss Backward - move backwards through the network to calculate the gradients of each of the parameters of our model with respect to the loss (**back propogation**)\n",
    "5. Optimizer step - use the optimizer to adjust our model's parameters to try and improve the loss (**gradient descent**)"
   ]
  },
  {
   "cell_type": "markdown",
   "id": "3ca6ea9c",
   "metadata": {},
   "source": [
    "### The PyTorch Optimization loop song\n",
    "\n",
    "Its train time!\n",
    "Do the forward pass,\n",
    "calculate the loss,\n",
    "optimizer zero grad,\n",
    "loss backwards!\n",
    "\n",
    "Optimizer step step step\n",
    "\n",
    "Let's test now!\n",
    "with torch no grad:\n",
    "do the forward pass,\n",
    "calculate the loss,\n",
    "watch it go down down down!"
   ]
  },
  {
   "cell_type": "code",
   "execution_count": 69,
   "id": "2f858973",
   "metadata": {},
   "outputs": [
    {
     "name": "stdout",
     "output_type": "stream",
     "text": [
      "Epoch: 0 | Loss: 0.31288138031959534 | Test Loss: 0.48106518387794495\n",
      "Epoch: 10 | Loss: 0.1976713240146637 | Test Loss: 0.3463551998138428\n",
      "Epoch: 20 | Loss: 0.08908725529909134 | Test Loss: 0.21729660034179688\n",
      "Epoch: 30 | Loss: 0.053148526698350906 | Test Loss: 0.14464017748832703\n",
      "Epoch: 40 | Loss: 0.04543796554207802 | Test Loss: 0.11360953003168106\n",
      "Epoch: 50 | Loss: 0.04167863354086876 | Test Loss: 0.09919948130846024\n",
      "Epoch: 60 | Loss: 0.03818932920694351 | Test Loss: 0.08886633068323135\n",
      "Epoch: 70 | Loss: 0.03476089984178543 | Test Loss: 0.0805937647819519\n",
      "Epoch: 80 | Loss: 0.03132382780313492 | Test Loss: 0.07232122868299484\n",
      "Epoch: 90 | Loss: 0.02788739837706089 | Test Loss: 0.06473556160926819\n",
      "Epoch: 100 | Loss: 0.024458957836031914 | Test Loss: 0.05646304413676262\n",
      "Epoch: 110 | Loss: 0.021020207554101944 | Test Loss: 0.04819049686193466\n",
      "Epoch: 120 | Loss: 0.01758546568453312 | Test Loss: 0.04060482233762741\n",
      "Epoch: 130 | Loss: 0.014155393466353416 | Test Loss: 0.03233227878808975\n",
      "Epoch: 140 | Loss: 0.010716589167714119 | Test Loss: 0.024059748277068138\n",
      "Epoch: 150 | Loss: 0.0072835334576666355 | Test Loss: 0.016474086791276932\n",
      "Epoch: 160 | Loss: 0.0038517764769494534 | Test Loss: 0.008201557211577892\n",
      "Epoch: 170 | Loss: 0.008932482451200485 | Test Loss: 0.005023092031478882\n",
      "Epoch: 180 | Loss: 0.008932482451200485 | Test Loss: 0.005023092031478882\n",
      "Epoch: 190 | Loss: 0.008932482451200485 | Test Loss: 0.005023092031478882\n",
      "OrderedDict([('weights', tensor([0.6990])), ('bias', tensor([0.3093]))])\n"
     ]
    }
   ],
   "source": [
    "torch.manual_seed(42)\n",
    "\n",
    "# An epoch is one loop through the data... (This is a hyper parameter because we have set it ourselves)\n",
    "epochs = 200\n",
    "\n",
    "# Track different values \n",
    "epoch_count = []\n",
    "loss_values = []\n",
    "test_loss_values = []\n",
    "\n",
    "\n",
    "\n",
    "### Training\n",
    "# 0. Loop through the data\n",
    "\n",
    "for epoch in range(epochs):\n",
    "    # Set the model to training mode\n",
    "    model_0.train() #Train mode in PyTorch sets all parameters that require gradients to require gradients\n",
    "\n",
    "# 1. Forward pass\n",
    "    y_pred = model_0(X_train)\n",
    "\n",
    "# 2. Calculate the loss\n",
    "    loss = loss_fn(y_pred,y_train)\n",
    "\n",
    "# 3. Optimizer zero grad\n",
    "    optimizer.zero_grad()\n",
    "\n",
    "# 4. Perform back propogation on the loss with respect to the parametrers of the model\n",
    "    loss.backward()\n",
    "\n",
    "#5. Step the optimizaer (perform gradient descent)\n",
    "    optimizer.step() # By default how the optimizer changes will accumulate through the loop soo... we have to zero them above in step 3 for the next iteration of the loop\n",
    "\n",
    "### Testing\n",
    "    model_0.eval() #Turns off different settings in the model not needed for evaluation/testing\n",
    "    with torch.inference_mode():\n",
    "        #1. Do the foward pass\n",
    "        test_pred = model_0(X_test)\n",
    "\n",
    "        #2. Calculate the loss\n",
    "        test_loss = loss_fn(test_pred,y_test)\n",
    "\n",
    "    if epoch % 10 == 0:\n",
    "        epoch_count.append(epoch)\n",
    "        loss_values.append(loss)\n",
    "        test_loss_values.append(test_loss)\n",
    "        print(f\"Epoch: {epoch} | Loss: {loss} | Test Loss: {test_loss}\")\n",
    "        \n",
    "        \n",
    "        #3. \n",
    "\n",
    "\n",
    "\n",
    "print(model_0.state_dict())\n"
   ]
  },
  {
   "cell_type": "code",
   "execution_count": 70,
   "id": "ccdb6507",
   "metadata": {},
   "outputs": [
    {
     "data": {
      "image/png": "[encoded data removed]",
      "text/plain": [
       "<Figure size 1000x700 with 1 Axes>"
      ]
     },
     "metadata": {},
     "output_type": "display_data"
    }
   ],
   "source": [
    "plot_predictions(predictions=y_preds)"
   ]
  },
  {
   "cell_type": "code",
   "execution_count": 71,
   "id": "929d3393",
   "metadata": {},
   "outputs": [
    {
     "data": {
      "image/png": "[encoded data removed]",
      "text/plain": [
       "<Figure size 1000x700 with 1 Axes>"
      ]
     },
     "metadata": {},
     "output_type": "display_data"
    }
   ],
   "source": [
    "with torch.inference_mode():\n",
    "    y_preds_new = model_0(X_test)\n",
    "plot_predictions(predictions=y_preds_new)\n",
    "    "
   ]
  },
  {
   "cell_type": "code",
   "execution_count": 72,
   "id": "438b48b6",
   "metadata": {},
   "outputs": [
    {
     "data": {
      "text/plain": [
       "<matplotlib.legend.Legend at 0x2079f0006a0>"
      ]
     },
     "execution_count": 72,
     "metadata": {},
     "output_type": "execute_result"
    },
    {
     "data": {
      "image/png": "[encoded data removed]",
      "text/plain": [
       "<Figure size 640x480 with 1 Axes>"
      ]
     },
     "metadata": {},
     "output_type": "display_data"
    }
   ],
   "source": [
    "#Plot loss curves \n",
    "plt.plot(epoch_count,np.array(torch.tensor(loss_values).numpy()),label=\"Train Loss\")\n",
    "plt.plot(epoch_count,np.array(torch.tensor(test_loss_values).numpy()),label=\"Test Loss\")\n",
    "plt.title(\"Test vs Train loss comparision\")\n",
    "plt.ylabel(\"Loss\")\n",
    "plt.xlabel(\"Epochs\")\n",
    "plt.legend()"
   ]
  },
  {
   "cell_type": "markdown",
   "id": "a50a305b",
   "metadata": {},
   "source": [
    "### Saving a model in PyTorch\n",
    "\n",
    "There are three main methods you should know about saving and loading models in PyTorch\n",
    "\n",
    "1. `torch.save()` -  allows you to save a PyTorch object in a pickle format. This function uses Python's pickle utility for serialization. Modles,tensors and dictionaries of all kinds of objects can be saved using this function\n",
    "2. `torch.load()` -  allows you to load a saved PyTorch Object.\n",
    "3. `torch.nn.Module.load_save_dict()` -  This allows you to load a model's saved state dictionary. Loads a model's parameter dictionary uising a deserialized state_dict,"
   ]
  },
  {
   "cell_type": "code",
   "execution_count": 73,
   "id": "02edcdd4",
   "metadata": {},
   "outputs": [
    {
     "name": "stdout",
     "output_type": "stream",
     "text": [
      "Saving model to: models\\01_PyTorch_Workflow_model_0.pth\n"
     ]
    }
   ],
   "source": [
    "# Saving our PyTorch Model\n",
    "\n",
    "from pathlib import Path\n",
    "\n",
    "# 1. Create models directory\n",
    "\n",
    "MODEL_PATH = Path(\"models\")\n",
    "MODEL_PATH.mkdir(parents=True,exist_ok=True)\n",
    "\n",
    "# 2.Create model save path\n",
    "\n",
    "MODEL_NAME = '01_PyTorch_Workflow_model_0.pth' #pytorch has extension pth. Common convention is to save models using either a .pt or .pth file extension\n",
    "MODEL_SAVE_PATH = MODEL_PATH / MODEL_NAME\n",
    "\n",
    "# 3. Save the model state_dict\n",
    "print(f\"Saving model to: {MODEL_SAVE_PATH}\")\n",
    "torch.save(obj = model_0.state_dict(),\n",
    "           f=MODEL_SAVE_PATH)"
   ]
  },
  {
   "cell_type": "markdown",
   "id": "d645b455",
   "metadata": {},
   "source": [
    "### Loading a PyTorch model\n",
    "\n",
    "Since we saved our models `state_dict()` rather than the entire model we will create a new instance of our model class and load the saved `state_dict()` into that"
   ]
  },
  {
   "cell_type": "code",
   "execution_count": 74,
   "id": "c298930a",
   "metadata": {},
   "outputs": [
    {
     "data": {
      "text/plain": [
       "<All keys matched successfully>"
      ]
     },
     "execution_count": 74,
     "metadata": {},
     "output_type": "execute_result"
    }
   ],
   "source": [
    "# To load in a saved state_dict() we have to instantiate a new instance of our model class\n",
    "\n",
    "loaded_model_0 = LinearRegressionModel()\n",
    "\n",
    "# Load the saved state_dict() of model_0 (this will update the new instance with updated parameters)\n",
    "\n",
    "loaded_model_0.load_state_dict(torch.load(f=MODEL_SAVE_PATH))"
   ]
  },
  {
   "cell_type": "code",
   "execution_count": 75,
   "id": "97773f18",
   "metadata": {},
   "outputs": [
    {
     "data": {
      "text/plain": [
       "tensor([[0.8685],\n",
       "        [0.8825],\n",
       "        [0.8965],\n",
       "        [0.9105],\n",
       "        [0.9245],\n",
       "        [0.9384],\n",
       "        [0.9524],\n",
       "        [0.9664],\n",
       "        [0.9804],\n",
       "        [0.9944]])"
      ]
     },
     "execution_count": 75,
     "metadata": {},
     "output_type": "execute_result"
    }
   ],
   "source": [
    "# Make some predictions with our loaded model\n",
    "loaded_model_0.eval()\n",
    "with torch.inference_mode():\n",
    "    loaded_model_preds = loaded_model_0(X_test)\n",
    "\n",
    "loaded_model_preds"
   ]
  },
  {
   "cell_type": "markdown",
   "id": "2355b124",
   "metadata": {},
   "source": [
    "Create device - agnostic code.\n",
    "\n",
    "This means if we have got a access to a GPU, out code will use it (For faster computing)\n",
    "If no GPU is available, the will default to using GPU"
   ]
  },
  {
   "cell_type": "code",
   "execution_count": 76,
   "id": "d721b92a",
   "metadata": {},
   "outputs": [
    {
     "name": "stdout",
     "output_type": "stream",
     "text": [
      "Using device :cpu\n"
     ]
    }
   ],
   "source": [
    "device = \"cuda\" if torch.cuda.is_available() else \"cpu\"\n",
    "\n",
    "print(f\"Using device :{device}\")"
   ]
  },
  {
   "cell_type": "markdown",
   "id": "fe8b78dd",
   "metadata": {},
   "source": [
    "### 6.1 Data\n"
   ]
  },
  {
   "cell_type": "code",
   "execution_count": 77,
   "id": "157deace",
   "metadata": {},
   "outputs": [
    {
     "data": {
      "text/plain": [
       "(tensor([[0.0000],\n",
       "         [0.0200],\n",
       "         [0.0400],\n",
       "         [0.0600],\n",
       "         [0.0800],\n",
       "         [0.1000],\n",
       "         [0.1200],\n",
       "         [0.1400],\n",
       "         [0.1600],\n",
       "         [0.1800]]),\n",
       " tensor([[0.3000],\n",
       "         [0.3140],\n",
       "         [0.3280],\n",
       "         [0.3420],\n",
       "         [0.3560],\n",
       "         [0.3700],\n",
       "         [0.3840],\n",
       "         [0.3980],\n",
       "         [0.4120],\n",
       "         [0.4260]]))"
      ]
     },
     "execution_count": 77,
     "metadata": {},
     "output_type": "execute_result"
    }
   ],
   "source": [
    "# Create some data using the linear regression formula of y = w * X + b\n",
    "\n",
    "weight = 0.7\n",
    "bias = 0.3\n",
    "\n",
    "# Create range values\n",
    "start = 0 \n",
    "end = 1\n",
    "step = 0.02\n",
    "\n",
    "# Create X and y\n",
    "\n",
    "X = torch.arange(start,end,step).unsqueeze(dim=1)\n",
    "y = weight * X + bias\n",
    "\n",
    "X[:10],y[:10]\n"
   ]
  },
  {
   "cell_type": "code",
   "execution_count": 78,
   "id": "c1b2c43e",
   "metadata": {},
   "outputs": [],
   "source": [
    "# Spliot the data\n",
    "train_split = int(0.8 * len(X))\n",
    "X_train, y_train = X[:train_split],y[:train_split]\n",
    "X_test,y_test = X[train_split:],y[train_split:]"
   ]
  },
  {
   "cell_type": "code",
   "execution_count": 79,
   "id": "267ba400",
   "metadata": {},
   "outputs": [
    {
     "data": {
      "image/png": "[encoded data removed]",
      "text/plain": [
       "<Figure size 1000x700 with 1 Axes>"
      ]
     },
     "metadata": {},
     "output_type": "display_data"
    }
   ],
   "source": [
    "# Plot the data \n",
    "\n",
    "plot_predictions(X_train,y_train,X_test,y_test)"
   ]
  },
  {
   "cell_type": "markdown",
   "id": "5daa6d8f",
   "metadata": {},
   "source": [
    "### 6.2 Building a PyTorch Linear Model"
   ]
  },
  {
   "cell_type": "code",
   "execution_count": 80,
   "id": "2d503e0d",
   "metadata": {},
   "outputs": [
    {
     "data": {
      "text/plain": [
       "(LinearRegressionModelv2(\n",
       "   (linear_layer): Linear(in_features=1, out_features=1, bias=True)\n",
       " ),\n",
       " OrderedDict([('linear_layer.weight', tensor([[0.7645]])),\n",
       "              ('linear_layer.bias', tensor([0.8300]))]))"
      ]
     },
     "execution_count": 80,
     "metadata": {},
     "output_type": "execute_result"
    }
   ],
   "source": [
    "# Create a linear model by subclassing nn.module \n",
    "\n",
    "class LinearRegressionModelv2(nn.Module):\n",
    "    def __init__(self):\n",
    "        super().__init__()\n",
    "        \n",
    "        # Use nn.Linear() for creating the model parameters / also called linear transform, probing layer, fully connected layer\n",
    "\n",
    "        self.linear_layer = nn.Linear(in_features=1, #Input of size 1\n",
    "                                      out_features=1) #Output of size 1\n",
    "        \n",
    "    def forward(self,x: torch.Tensor) -> torch.Tensor:\n",
    "        return self.linear_layer(x)\n",
    "    \n",
    "# Set manual seed\n",
    "\n",
    "torch.manual_seed(42)\n",
    "\n",
    "model_1 = LinearRegressionModelv2()\n",
    "model_1,model_1.state_dict()"
   ]
  },
  {
   "cell_type": "markdown",
   "id": "0da90db0",
   "metadata": {},
   "source": [
    "### 6.3 Training\n",
    "\n",
    "For training we need: \n",
    "* Loss Function\n",
    "* Optimizer \n",
    "* Training loop\n",
    "* Testing loop"
   ]
  },
  {
   "cell_type": "code",
   "execution_count": 82,
   "id": "16bd590c",
   "metadata": {},
   "outputs": [
    {
     "name": "stdout",
     "output_type": "stream",
     "text": [
      "Epoch: 0 | Loss: 0.5805944204330444 | Test_Loss: 0.7031320333480835\n",
      "Epoch: 10 | Loss: 0.4653845727443695 | Test_Loss: 0.5684221982955933\n",
      "Epoch: 20 | Loss: 0.3501747250556946 | Test_Loss: 0.4337123930454254\n",
      "Epoch: 30 | Loss: 0.23496484756469727 | Test_Loss: 0.2990025281906128\n",
      "Epoch: 40 | Loss: 0.11975497007369995 | Test_Loss: 0.16429266333580017\n",
      "Epoch: 50 | Loss: 0.017513396218419075 | Test_Loss: 0.04365081340074539\n",
      "Epoch: 60 | Loss: 0.01126673724502325 | Test_Loss: 0.025306349620223045\n",
      "Epoch: 70 | Loss: 0.007835463620722294 | Test_Loss: 0.017720693722367287\n",
      "Epoch: 80 | Loss: 0.004401929676532745 | Test_Loss: 0.009448152966797352\n",
      "Epoch: 90 | Loss: 0.0045344093814492226 | Test_Loss: 0.010805266909301281\n",
      "Epoch: 100 | Loss: 0.0045344093814492226 | Test_Loss: 0.010805266909301281\n",
      "Epoch: 110 | Loss: 0.0045344093814492226 | Test_Loss: 0.010805266909301281\n",
      "Epoch: 120 | Loss: 0.0045344093814492226 | Test_Loss: 0.010805266909301281\n",
      "Epoch: 130 | Loss: 0.0045344093814492226 | Test_Loss: 0.010805266909301281\n",
      "Epoch: 140 | Loss: 0.0045344093814492226 | Test_Loss: 0.010805266909301281\n",
      "Epoch: 150 | Loss: 0.0045344093814492226 | Test_Loss: 0.010805266909301281\n",
      "Epoch: 160 | Loss: 0.0045344093814492226 | Test_Loss: 0.010805266909301281\n",
      "Epoch: 170 | Loss: 0.0045344093814492226 | Test_Loss: 0.010805266909301281\n",
      "Epoch: 180 | Loss: 0.0045344093814492226 | Test_Loss: 0.010805266909301281\n",
      "Epoch: 190 | Loss: 0.0045344093814492226 | Test_Loss: 0.010805266909301281\n",
      "OrderedDict([('linear_layer.weight', tensor([[0.7037]])), ('linear_layer.bias', tensor([0.2940]))])\n"
     ]
    }
   ],
   "source": [
    "# Setup Loss Function \n",
    "\n",
    "loss_fn = nn.L1Loss()\n",
    "\n",
    "optimizer = torch.optim.SGD(params= model_1.parameters(),\n",
    "                            lr=0.01) #Learning rate\n",
    "\n",
    "\n",
    "torch.manual_seed(42)\n",
    "\n",
    "epochs = 200\n",
    "epoch_count = []\n",
    "loss_values = []\n",
    "test_loss_values = []\n",
    "\n",
    "\n",
    "\n",
    "\n",
    "for epoch in range(epochs):\n",
    "    # 1. Training mode\n",
    "    model_1.train()\n",
    "\n",
    "    # 2. Forward pass\n",
    "    y_pred = model_1(X_train)\n",
    "\n",
    "    # 3. Loss Function\n",
    "    loss = loss_fn(y_pred,y_train)\n",
    "\n",
    "    # 4. Optimizer zero grad\n",
    "    optimizer.zero_grad()\n",
    "\n",
    "    # 5. Back propogation\n",
    "    loss.backward()\n",
    "\n",
    "    # 6. Optimizer\n",
    "    optimizer.step()\n",
    "\n",
    "    \n",
    "    # Testing the model\n",
    "    model_1.eval()\n",
    "    with torch.inference_mode():\n",
    "        test_pred = model_1(X_test)\n",
    "\n",
    "        test_loss = loss_fn(test_pred,y_test)\n",
    "\n",
    "    if epoch % 10 == 0:\n",
    "        epoch_count.append(epoch)\n",
    "        loss_values.append(loss)\n",
    "        test_loss_values.append(test_loss)\n",
    "        print(f\"Epoch: {epoch} | Loss: {loss} | Test_Loss: {test_loss}\")\n",
    "\n",
    "print(model_1.state_dict())\n",
    "\n",
    "\n",
    "\n",
    "\n",
    "\n"
   ]
  },
  {
   "cell_type": "code",
   "execution_count": 84,
   "id": "69e87fe0",
   "metadata": {},
   "outputs": [
    {
     "data": {
      "image/png": "[encoded data removed]",
      "text/plain": [
       "<Figure size 1000x700 with 1 Axes>"
      ]
     },
     "metadata": {},
     "output_type": "display_data"
    }
   ],
   "source": [
    "with torch.inference_mode():\n",
    "    y_preds_new = model_1(X_test)\n",
    "plot_predictions(predictions=y_preds_new)"
   ]
  },
  {
   "cell_type": "markdown",
   "id": "d94fbd94",
   "metadata": {},
   "source": [
    "### Saving the model"
   ]
  },
  {
   "cell_type": "code",
   "execution_count": 85,
   "id": "5cbec833",
   "metadata": {},
   "outputs": [
    {
     "name": "stdout",
     "output_type": "stream",
     "text": [
      "Saving model to: models\\02_PyTorch_Model.pth\n"
     ]
    }
   ],
   "source": [
    "from pathlib import Path\n",
    "\n",
    "MODEL_PATH = Path(\"models\")\n",
    "MODEL_PATH.mkdir(parents=True,exist_ok=True)\n",
    "\n",
    "MODEL_NAME = '02_PyTorch_Model.pth'\n",
    "MODEL_SAVE_PATH = MODEL_PATH / MODEL_NAME\n",
    "\n",
    "print(f\"Saving model to: {MODEL_SAVE_PATH}\")\n",
    "torch.save(obj = model_1.state_dict(),\n",
    "           f = MODEL_SAVE_PATH)"
   ]
  },
  {
   "cell_type": "code",
   "execution_count": null,
   "id": "00a0cbc2",
   "metadata": {},
   "outputs": [],
   "source": []
  }
 ],
 "metadata": {
  "kernelspec": {
   "display_name": ".venv",
   "language": "python",
   "name": "python3"
  },
  "language_info": {
   "codemirror_mode": {
    "name": "ipython",
    "version": 3
   },
   "file_extension": ".py",
   "mimetype": "text/x-python",
   "name": "python",
   "nbconvert_exporter": "python",
   "pygments_lexer": "ipython3",
   "version": "3.10.0"
  }
 },
 "nbformat": 4,
 "nbformat_minor": 5
}
